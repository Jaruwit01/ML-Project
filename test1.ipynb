{
 "cells": [
  {
   "cell_type": "code",
   "execution_count": 2,
   "metadata": {},
   "outputs": [],
   "source": [
    "import tensorflow as tf"
   ]
  },
  {
   "cell_type": "code",
   "execution_count": 4,
   "metadata": {},
   "outputs": [],
   "source": [
    "train_data = '/Users/macjaru/Documents/GitHub/ML-Project/archive/train'\n",
    "test_data = '/Users/macjaru/Documents/GitHub/ML-Project/archive/test'\n",
    "\n",
    "image_size = (224, 224)\n",
    "batch_size = 32"
   ]
  },
  {
   "cell_type": "code",
   "execution_count": 1,
   "metadata": {},
   "outputs": [],
   "source": [
    "from tensorflow.keras.preprocessing import image\n",
    "from tensorflow.keras.preprocessing.image import ImageDataGenerator"
   ]
  },
  {
   "cell_type": "code",
   "execution_count": 5,
   "metadata": {},
   "outputs": [],
   "source": [
    "train_datagen = ImageDataGenerator(\n",
    "    rescale=1./255,\n",
    "    rotation_range=20,\n",
    "    width_shift_range=0.2,\n",
    "    height_shift_range=0.2,\n",
    "    horizontal_flip=True,\n",
    "    fill_mode='nearest'\n",
    ")"
   ]
  },
  {
   "cell_type": "code",
   "execution_count": 7,
   "metadata": {},
   "outputs": [
    {
     "name": "stdout",
     "output_type": "stream",
     "text": [
      "Found 11879 images belonging to 2 classes.\n"
     ]
    }
   ],
   "source": [
    "train_generator = train_datagen.flow_from_directory(\n",
    "    train_data,\n",
    "    target_size=image_size,\n",
    "    batch_size=batch_size,\n",
    "    class_mode='categorical'\n",
    ")"
   ]
  },
  {
   "cell_type": "code",
   "execution_count": 8,
   "metadata": {},
   "outputs": [],
   "source": [
    "num_classes = len(train_generator.class_indices)"
   ]
  },
  {
   "cell_type": "code",
   "execution_count": 10,
   "metadata": {},
   "outputs": [],
   "source": [
    "model = tf.keras.models.Sequential([\n",
    "    tf.keras.layers.Conv2D(32, (3,3), activation='relu', input_shape=(224, 224, 3)),\n",
    "    tf.keras.layers.MaxPooling2D(2,2),\n",
    "    tf.keras.layers.Conv2D(64, (3,3), activation='relu'),\n",
    "    tf.keras.layers.MaxPooling2D(2,2),\n",
    "    tf.keras.layers.Conv2D(128, (3,3), activation='relu'),\n",
    "    tf.keras.layers.MaxPooling2D(2,2),\n",
    "    tf.keras.layers.Conv2D(128, (3,3), activation='relu'),\n",
    "    tf.keras.layers.MaxPooling2D(2,2),\n",
    "    tf.keras.layers.Flatten(),\n",
    "    tf.keras.layers.Dense(512, activation='relu'),\n",
    "    tf.keras.layers.Dense(num_classes, activation='softmax')\n",
    "])"
   ]
  },
  {
   "cell_type": "code",
   "execution_count": 11,
   "metadata": {},
   "outputs": [],
   "source": [
    "model.compile(optimizer='adam', loss='categorical_crossentropy', metrics=['accuracy'])"
   ]
  },
  {
   "cell_type": "code",
   "execution_count": 12,
   "metadata": {},
   "outputs": [
    {
     "name": "stdout",
     "output_type": "stream",
     "text": [
      "Epoch 1/20\n",
      "100/100 [==============================] - 63s 626ms/step - loss: 0.6651 - accuracy: 0.6859\n",
      "Epoch 2/20\n",
      "100/100 [==============================] - 65s 650ms/step - loss: 0.5068 - accuracy: 0.7491\n",
      "Epoch 3/20\n",
      "100/100 [==============================] - 65s 650ms/step - loss: 0.4738 - accuracy: 0.7694\n",
      "Epoch 4/20\n",
      "100/100 [==============================] - 65s 651ms/step - loss: 0.4663 - accuracy: 0.7772\n",
      "Epoch 5/20\n",
      "100/100 [==============================] - 67s 665ms/step - loss: 0.4320 - accuracy: 0.8003\n",
      "Epoch 6/20\n",
      "100/100 [==============================] - 69s 686ms/step - loss: 0.4292 - accuracy: 0.8116\n",
      "Epoch 7/20\n",
      "100/100 [==============================] - 69s 687ms/step - loss: 0.4123 - accuracy: 0.8163\n",
      "Epoch 8/20\n",
      "100/100 [==============================] - 70s 697ms/step - loss: 0.4072 - accuracy: 0.8278\n",
      "Epoch 9/20\n",
      "100/100 [==============================] - 68s 682ms/step - loss: 0.4044 - accuracy: 0.8225\n",
      "Epoch 10/20\n",
      "100/100 [==============================] - 69s 691ms/step - loss: 0.3925 - accuracy: 0.8256\n",
      "Epoch 11/20\n",
      "100/100 [==============================] - 71s 704ms/step - loss: 0.3840 - accuracy: 0.8209\n",
      "Epoch 12/20\n",
      "100/100 [==============================] - 73s 724ms/step - loss: 0.3895 - accuracy: 0.8356\n",
      "Epoch 13/20\n",
      "100/100 [==============================] - 72s 713ms/step - loss: 0.3789 - accuracy: 0.8331\n",
      "Epoch 14/20\n",
      "100/100 [==============================] - 69s 684ms/step - loss: 0.3787 - accuracy: 0.8372\n",
      "Epoch 15/20\n",
      "100/100 [==============================] - 67s 668ms/step - loss: 0.3589 - accuracy: 0.8434\n",
      "Epoch 16/20\n",
      "100/100 [==============================] - 68s 675ms/step - loss: 0.3668 - accuracy: 0.8416\n",
      "Epoch 17/20\n",
      "100/100 [==============================] - 67s 666ms/step - loss: 0.3593 - accuracy: 0.8469\n",
      "Epoch 18/20\n",
      "100/100 [==============================] - 66s 663ms/step - loss: 0.3592 - accuracy: 0.8378\n",
      "Epoch 19/20\n",
      "100/100 [==============================] - 66s 659ms/step - loss: 0.3751 - accuracy: 0.8268\n",
      "Epoch 20/20\n",
      "100/100 [==============================] - 72s 719ms/step - loss: 0.3677 - accuracy: 0.8403\n"
     ]
    },
    {
     "data": {
      "text/plain": [
       "<keras.src.callbacks.History at 0x288cd1d90>"
      ]
     },
     "execution_count": 12,
     "metadata": {},
     "output_type": "execute_result"
    }
   ],
   "source": [
    "model.fit(train_generator, steps_per_epoch=100, epochs=20, verbose=1)"
   ]
  },
  {
   "cell_type": "code",
   "execution_count": 13,
   "metadata": {},
   "outputs": [
    {
     "name": "stdout",
     "output_type": "stream",
     "text": [
      "Found 2000 images belonging to 2 classes.\n"
     ]
    }
   ],
   "source": [
    "test_datagen = ImageDataGenerator(rescale=1./255)\n",
    "test_generator = test_datagen.flow_from_directory(\n",
    "    test_data,\n",
    "    target_size=image_size,\n",
    "    batch_size=batch_size,\n",
    "    class_mode='categorical'\n",
    ")"
   ]
  },
  {
   "cell_type": "code",
   "execution_count": 15,
   "metadata": {},
   "outputs": [
    {
     "name": "stdout",
     "output_type": "stream",
     "text": [
      "63/63 [==============================] - 10s 165ms/step - loss: 0.4055 - accuracy: 0.8100\n",
      "63/63 [==============================] - 11s 168ms/step - loss: 0.4055 - accuracy: 0.8100\n",
      "Acuerecy:  81.00000023841858 %\n"
     ]
    }
   ],
   "source": [
    "# Evaluate the model\n",
    "model.evaluate(test_generator)\n",
    "print(\"Acuerecy: \", model.evaluate(test_generator)[1] * 100, \"%\")"
   ]
  },
  {
   "cell_type": "code",
   "execution_count": null,
   "metadata": {},
   "outputs": [],
   "source": []
  }
 ],
 "metadata": {
  "kernelspec": {
   "display_name": "Python 3",
   "language": "python",
   "name": "python3"
  },
  "language_info": {
   "codemirror_mode": {
    "name": "ipython",
    "version": 3
   },
   "file_extension": ".py",
   "mimetype": "text/x-python",
   "name": "python",
   "nbconvert_exporter": "python",
   "pygments_lexer": "ipython3",
   "version": "3.11.1"
  }
 },
 "nbformat": 4,
 "nbformat_minor": 2
}
