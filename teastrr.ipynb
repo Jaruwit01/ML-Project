{
 "cells": [
  {
   "cell_type": "code",
   "execution_count": 11,
   "metadata": {},
   "outputs": [
    {
     "name": "stdout",
     "output_type": "stream",
     "text": [
      "\n",
      "image 1/1 /Users/macjaru/Desktop/untitled folder/thaipublica_DSC_2081_รถเมล์.jpg: 448x640 1 number, 62.3ms\n",
      "Speed: 1.7ms preprocess, 62.3ms inference, 0.8ms postprocess per image at shape (1, 3, 448, 640)\n"
     ]
    }
   ],
   "source": [
    "\n",
    "import numpy as np\n",
    "import cv2\n",
    "import imutils\n",
    "from PIL import Image\n",
    "import pytesseract\n",
    "from gtts import gTTS\n",
    "import IPython.display as ipd\n",
    "import matplotlib.pyplot as plt\n",
    "from ultralytics import YOLO\n",
    "\n",
    "import torch\n",
    "\n",
    "test_image = 'thaipublica_DSC_2081_รถเมล์.jpg'\n",
    "img = Image.open(test_image)\n",
    "img = np.array(img)\n",
    "\n",
    "model = YOLO('runs/detect/train/weights/best.pt')\n",
    "results = model(test_image)\n",
    "result = results[0]\n",
    "box = result.boxes[0]\n",
    "\n",
    "import pandas as pd\n",
    "df = pd.DataFrame(box.xyxy, columns=['x_min', 'y_min', 'x_max', 'y_max'])\n",
    "\n",
    "# xmin\n",
    "x_min = int(df['x_min'][0])\n",
    "\n",
    "# xmax\n",
    "x_max = int(df['x_max'][0])\n",
    "\n",
    "# ymin\n",
    "y_min = int(df['y_min'][0])\n",
    "\n",
    "# ymax\n",
    "y_max = int(df['y_max'][0])\n",
    "\n",
    "# use numpy slicing to crop the region of interest\n",
    "roi = img[y_min:y_max,x_min:x_max] \n",
    "\n",
    "# define a helper function to show image\n",
    "def show_pic(img):\n",
    "    fig = plt.figure(figsize=(15,15))\n",
    "    ax = fig.add_subplot(111)\n",
    "    ax.imshow(img,cmap='gray')\n",
    "    \n",
    "# define helper functions to preprocess the ROI\n",
    "# get grayscale image\n",
    "def get_grayscale(image):\n",
    "    gray = cv2.cvtColor(image, cv2.COLOR_BGR2GRAY)\n",
    "    return gray\n",
    "\n",
    "# thresholding\n",
    "def thresholding(image):\n",
    "    thresh = cv2.threshold(image, 0, 255, cv2.THRESH_BINARY + cv2.THRESH_OTSU)[1]\n",
    "    return thresh\n",
    "\n",
    "gray = get_grayscale(roi)\n",
    "thresh = thresholding(gray)\n",
    "\n",
    "number_list = ['1','2','3','4','5','6','7','8','9','0','-']\n",
    "thai_characters = ['ก', 'ป', 'อ']\n",
    "english_characters = ['A', 'E']\n",
    "\n",
    "config_psm = '--psm 13'\n",
    "text = pytesseract.image_to_string(thresh, config=config_psm)\n",
    "new_text = ''\n",
    "\n",
    "if not new_text:\n",
    "    config_psm_count = 13\n",
    "    while not new_text and config_psm_count >= 1:  # You can adjust the upper limit for config_psm_count as needed\n",
    "        config_psm = f'--psm {config_psm_count}'\n",
    "        text = pytesseract.image_to_string(thresh, config=config_psm)\n",
    "        for i in text:\n",
    "            if i in number_list or i in thai_characters or i in english_characters:\n",
    "                new_text += i\n",
    "        config_psm_count -= 1\n",
    "        \n",
    "audio_text = \"รถเมล์หมายเลข \" + new_text\n",
    "language = 'th'\n",
    "audio_obj = gTTS(text=audio_text, lang=language, slow=False) \n",
    "audio_obj.save(\"/untitled folder/bus_number.mp4\") "
   ]
  },
  {
   "cell_type": "code",
   "execution_count": 12,
   "metadata": {},
   "outputs": [
    {
     "data": {
      "text/html": [
       "\n",
       "                <audio  controls=\"controls\" >\n",
       "                    <source src=\"data:video/mp4;base64,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\" type=\"video/mp4\" />\n",
       "                    Your browser does not support the audio element.\n",
       "                </audio>\n",
       "              "
      ],
      "text/plain": [
       "<IPython.lib.display.Audio object>"
      ]
     },
     "execution_count": 12,
     "metadata": {},
     "output_type": "execute_result"
    }
   ],
   "source": [
    "ipd.Audio('/Users/macjaru/Desktop/untitled folder/bus_number.mp4')"
   ]
  }
 ],
 "metadata": {
  "kernelspec": {
   "display_name": "Python 3",
   "language": "python",
   "name": "python3"
  },
  "language_info": {
   "codemirror_mode": {
    "name": "ipython",
    "version": 3
   },
   "file_extension": ".py",
   "mimetype": "text/x-python",
   "name": "python",
   "nbconvert_exporter": "python",
   "pygments_lexer": "ipython3",
   "version": "3.11.1"
  }
 },
 "nbformat": 4,
 "nbformat_minor": 2
}
